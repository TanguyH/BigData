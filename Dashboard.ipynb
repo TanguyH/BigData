{
 "cells": [
  {
   "cell_type": "markdown",
   "metadata": {},
   "source": [
    "# Big Data - Dashboard\n",
    "## ALBICHARI Kaïs - D'HOSE Tanguy - ULB"
   ]
  },
  {
   "cell_type": "code",
   "execution_count": 2,
   "metadata": {},
   "outputs": [],
   "source": [
    "from pyspark import SparkContext, SparkConf\n",
    "from pyspark.streaming import StreamingContext\n",
    "import sys\n",
    "import os\n",
    "from datetime import datetime\n",
    "from pathlib import Path\n",
    "from kafka import KafkaConsumer\n",
    "from kafka.errors import KafkaError"
   ]
  },
  {
   "cell_type": "code",
   "execution_count": 3,
   "metadata": {},
   "outputs": [
    {
     "data": {
      "text/plain": [
       "['2017-03-31 03:38:16.508 1-0 122.153 2.03397\\n',\n",
       " '2017-03-31 03:38:15.967 1-1 -3.91901 2.09397\\n',\n",
       " '2017-03-31 03:38:16.577 1-2 11.04 2.07397\\n',\n",
       " '2017-02-28 00:59:16.359 1-0 19.9884 2.74964\\n',\n",
       " '2017-02-28 00:59:16.803 1-1 37.0933 2.76964\\n']"
      ]
     },
     "execution_count": 3,
     "metadata": {},
     "output_type": "execute_result"
    }
   ],
   "source": [
    "import headtail\n",
    "headtail.head('data/data.conv.txt', 5)"
   ]
  },
  {
   "cell_type": "code",
   "execution_count": 4,
   "metadata": {},
   "outputs": [],
   "source": [
    "STREAM_IN = \"stream-in\"\n",
    "\n",
    "sc = SparkContext(\"local[*]\", \"test\")\n",
    "sc.setLogLevel(\"WARN\")   #Make sure warnings and errors observed by spark are printed.\n",
    "\n",
    "ssc = StreamingContext(sc, 5)  #generate a mini-batch every 5 seconds\n",
    "\n",
    "filestream = ssc.textFileStream(STREAM_IN) #monitor new files in folder stream-IN"
   ]
  },
  {
   "cell_type": "code",
   "execution_count": 6,
   "metadata": {},
   "outputs": [],
   "source": [
    "\n",
    "\n",
    "def parseRow(row):\n",
    "    '''parses a single row into a dictionary'''\n",
    "    v = row.split(\" \")\n",
    "    try:\n",
    "        return [{\"topic\": v[0],\n",
    "                 \"time\": datetime.strptime(v[1] + \" \"+ v[2], \"%Y-%m-%d %H:%M:%S.%f\"),\n",
    "                 \"p-i\": values[3],\n",
    "                 \"measurement\": float(values[4]),\n",
    "                 \"voltage\": float(values[5])}]\n",
    "    except Exception as err:\n",
    "        print(\"Unexpected error: %s\" % (err))\n",
    "\n",
    "\n",
    "def checkAttributes(sensor_type, space_tag, time_tag):\n",
    "    if sensor_type < 0 or sensor_type > 3:\n",
    "        print(\"Sensor type value is not supported. Give a value in [0,3]\")\n",
    "        return False\n",
    "    elif space_tag < 0 or space_tag > 2:\n",
    "        print(\"Space tag value is not supported. Give a value in [0,2].\")\n",
    "        print(\"0: grouped per space\")\n",
    "        print(\"1: grouped per municipality\")\n",
    "        print(\"2: grouped for the entirety of Brussels\")\n",
    "        return False\n",
    "    elif time_tag <0 or time_tag > 4:\n",
    "        print(\"Time tag value is not supported. Give a value in [0,4].\")\n",
    "        print(\"0: last 24h\")\n",
    "        print(\"1: last 2 days\")\n",
    "        print(\"2: last week\")\n",
    "        print(\"3: last month\")\n",
    "        print(\"4: last year\")\n",
    "        return False\n",
    "    else:\n",
    "        return True\n",
    "        \n",
    "\n",
    "def basicStats(sensor_type, space_tag, time_tag):\n",
    "    \"\"\"\n",
    "    Basic statistics (min, max, avg) about sensor readings grouped according to different granularities\n",
    "    in space and time.\n",
    "    sensor_type: type of the sensor (0 to 3)\n",
    "    space_tag: defines granularity in space (0 to 2)\n",
    "    time_tag: defines granularity in time (0 to 4)\n",
    "    \"\"\"\n",
    "    if not checkAttributes(sensor_type, space_tag, time_tag):\n",
    "        exit()\n",
    "    filestream = ssc.textFileStream(STREAM_IN) #monitor new files in folder stream-IN\n",
    "\n",
    "    rows = filestream.flatMap(parseRow)\n",
    "\n",
    "\n",
    "\n",
    "\n",
    "basicStats(1,2,0)"
   ]
  },
  {
   "cell_type": "code",
   "execution_count": null,
   "metadata": {},
   "outputs": [],
   "source": []
  }
 ],
 "metadata": {
  "kernelspec": {
   "display_name": "Python 3",
   "language": "python",
   "name": "python3"
  },
  "language_info": {
   "codemirror_mode": {
    "name": "ipython",
    "version": 3
   },
   "file_extension": ".py",
   "mimetype": "text/x-python",
   "name": "python",
   "nbconvert_exporter": "python",
   "pygments_lexer": "ipython3",
   "version": "3.7.3"
  }
 },
 "nbformat": 4,
 "nbformat_minor": 2
}
