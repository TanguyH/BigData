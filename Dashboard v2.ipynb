{
 "cells": [
  {
   "cell_type": "markdown",
   "metadata": {
    "extensions": {
     "jupyter_dashboards": {
      "version": 1,
      "views": {
       "grid_default": {},
       "report_default": {
        "hidden": false
       }
      }
     }
    }
   },
   "source": [
    "# Big Data Dashboard"
   ]
  },
  {
   "cell_type": "code",
   "execution_count": 1,
   "metadata": {
    "extensions": {
     "jupyter_dashboards": {
      "version": 1,
      "views": {
       "grid_default": {},
       "report_default": {
        "hidden": true
       }
      }
     }
    }
   },
   "outputs": [],
   "source": [
    "import seaborn as sns\n",
    "from ipywidgets import interact\n",
    "\n",
    "sns.set(style=\"darkgrid\")"
   ]
  },
  {
   "cell_type": "code",
   "execution_count": 2,
   "metadata": {
    "extensions": {
     "jupyter_dashboards": {
      "version": 1,
      "views": {
       "grid_default": {},
       "report_default": {
        "hidden": true
       }
      }
     }
    }
   },
   "outputs": [],
   "source": [
    "tips = sns.load_dataset('tips')"
   ]
  },
  {
   "cell_type": "code",
   "execution_count": 3,
   "metadata": {
    "extensions": {
     "jupyter_dashboards": {
      "version": 1,
      "views": {
       "grid_default": {},
       "report_default": {
        "hidden": false
       }
      }
     }
    }
   },
   "outputs": [
    {
     "data": {
      "text/html": [
       "<div>\n",
       "<style scoped>\n",
       "    .dataframe tbody tr th:only-of-type {\n",
       "        vertical-align: middle;\n",
       "    }\n",
       "\n",
       "    .dataframe tbody tr th {\n",
       "        vertical-align: top;\n",
       "    }\n",
       "\n",
       "    .dataframe thead th {\n",
       "        text-align: right;\n",
       "    }\n",
       "</style>\n",
       "<table border=\"1\" class=\"dataframe\">\n",
       "  <thead>\n",
       "    <tr style=\"text-align: right;\">\n",
       "      <th></th>\n",
       "      <th>total_bill</th>\n",
       "      <th>tip</th>\n",
       "      <th>sex</th>\n",
       "      <th>smoker</th>\n",
       "      <th>day</th>\n",
       "      <th>time</th>\n",
       "      <th>size</th>\n",
       "    </tr>\n",
       "  </thead>\n",
       "  <tbody>\n",
       "    <tr>\n",
       "      <th>0</th>\n",
       "      <td>16.99</td>\n",
       "      <td>1.01</td>\n",
       "      <td>Female</td>\n",
       "      <td>No</td>\n",
       "      <td>Sun</td>\n",
       "      <td>Dinner</td>\n",
       "      <td>2</td>\n",
       "    </tr>\n",
       "    <tr>\n",
       "      <th>1</th>\n",
       "      <td>10.34</td>\n",
       "      <td>1.66</td>\n",
       "      <td>Male</td>\n",
       "      <td>No</td>\n",
       "      <td>Sun</td>\n",
       "      <td>Dinner</td>\n",
       "      <td>3</td>\n",
       "    </tr>\n",
       "    <tr>\n",
       "      <th>2</th>\n",
       "      <td>21.01</td>\n",
       "      <td>3.50</td>\n",
       "      <td>Male</td>\n",
       "      <td>No</td>\n",
       "      <td>Sun</td>\n",
       "      <td>Dinner</td>\n",
       "      <td>3</td>\n",
       "    </tr>\n",
       "    <tr>\n",
       "      <th>3</th>\n",
       "      <td>23.68</td>\n",
       "      <td>3.31</td>\n",
       "      <td>Male</td>\n",
       "      <td>No</td>\n",
       "      <td>Sun</td>\n",
       "      <td>Dinner</td>\n",
       "      <td>2</td>\n",
       "    </tr>\n",
       "    <tr>\n",
       "      <th>4</th>\n",
       "      <td>24.59</td>\n",
       "      <td>3.61</td>\n",
       "      <td>Female</td>\n",
       "      <td>No</td>\n",
       "      <td>Sun</td>\n",
       "      <td>Dinner</td>\n",
       "      <td>4</td>\n",
       "    </tr>\n",
       "  </tbody>\n",
       "</table>\n",
       "</div>"
      ],
      "text/plain": [
       "   total_bill   tip     sex smoker  day    time  size\n",
       "0       16.99  1.01  Female     No  Sun  Dinner     2\n",
       "1       10.34  1.66    Male     No  Sun  Dinner     3\n",
       "2       21.01  3.50    Male     No  Sun  Dinner     3\n",
       "3       23.68  3.31    Male     No  Sun  Dinner     2\n",
       "4       24.59  3.61  Female     No  Sun  Dinner     4"
      ]
     },
     "execution_count": 3,
     "metadata": {},
     "output_type": "execute_result"
    }
   ],
   "source": [
    "tips.head()"
   ]
  },
  {
   "cell_type": "code",
   "execution_count": 4,
   "metadata": {
    "extensions": {
     "jupyter_dashboards": {
      "version": 1,
      "views": {
       "grid_default": {},
       "report_default": {
        "hidden": false
       }
      }
     }
    }
   },
   "outputs": [
    {
     "data": {
      "application/vnd.jupyter.widget-view+json": {
       "model_id": "76a56ee221324db5a2924a2d03abc4f8",
       "version_major": 2,
       "version_minor": 0
      },
      "text/plain": [
       "interactive(children=(Dropdown(description='hue', options=('smoker', 'sex', 'time', 'day'), value='smoker'), O…"
      ]
     },
     "metadata": {},
     "output_type": "display_data"
    }
   ],
   "source": [
    "@interact(hue=['smoker', 'sex', 'time', 'day'])\n",
    "def plot(hue):\n",
    "    _ = sns.pairplot(tips, hue=hue)"
   ]
  },
  {
   "cell_type": "code",
   "execution_count": 5,
   "metadata": {
    "extensions": {
     "jupyter_dashboards": {
      "version": 1,
      "views": {
       "grid_default": {},
       "report_default": {
        "hidden": true
       }
      }
     }
    }
   },
   "outputs": [],
   "source": [
    "import pymongo\n",
    "import pandas as pd"
   ]
  },
  {
   "cell_type": "code",
   "execution_count": 6,
   "metadata": {
    "extensions": {
     "jupyter_dashboards": {
      "version": 1,
      "views": {
       "grid_default": {},
       "report_default": {
        "hidden": true
       }
      }
     }
    }
   },
   "outputs": [],
   "source": [
    "DATABASE_NAME = \"big_data\"\n",
    "STAT_TABLE = \"statistics\"\n",
    "SLOT_TABLE = \"timeslots\"\n",
    "WINDOW_TABLE = \"window\""
   ]
  },
  {
   "cell_type": "code",
   "execution_count": 7,
   "metadata": {
    "extensions": {
     "jupyter_dashboards": {
      "version": 1,
      "views": {
       "grid_default": {},
       "report_default": {
        "hidden": true
       }
      }
     }
    }
   },
   "outputs": [],
   "source": [
    "mongo_client = pymongo.MongoClient(\"mongodb://localhost:27017\")\n",
    "used_db = mongo_client[DATABASE_NAME]\n",
    "\n",
    "statistics = used_db[STAT_TABLE]\n",
    "timeslots = used_db[SLOT_TABLE]\n",
    "window = used_db[WINDOW_TABLE]"
   ]
  },
  {
   "cell_type": "code",
   "execution_count": 8,
   "metadata": {
    "extensions": {
     "jupyter_dashboards": {
      "version": 1,
      "views": {
       "grid_default": {},
       "report_default": {
        "hidden": false
       }
      }
     }
    }
   },
   "outputs": [],
   "source": [
    "#my_query = statistics.find({\"sensor_type\": sensor_type})\n",
    "#my_query = statistics.find({\"measurement\": {'$gt': 0}})\n",
    "#res = pd.DataFrame(my_query)\n",
    "#res.head()"
   ]
  },
  {
   "cell_type": "markdown",
   "metadata": {
    "extensions": {
     "jupyter_dashboards": {
      "version": 1,
      "views": {
       "grid_default": {},
       "report_default": {
        "hidden": false
       }
      }
     }
    }
   },
   "source": [
    "## Basic statistics"
   ]
  },
  {
   "cell_type": "code",
   "execution_count": 9,
   "metadata": {
    "extensions": {
     "jupyter_dashboards": {
      "version": 1,
      "views": {
       "grid_default": {},
       "report_default": {
        "hidden": true
       }
      }
     }
    }
   },
   "outputs": [],
   "source": [
    "from datetime import *\n",
    "import time\n",
    "import matplotlib.pyplot as plt"
   ]
  },
  {
   "cell_type": "code",
   "execution_count": 10,
   "metadata": {
    "extensions": {
     "jupyter_dashboards": {
      "version": 1,
      "views": {
       "grid_default": {},
       "report_default": {
        "hidden": false
       }
      }
     }
    }
   },
   "outputs": [
    {
     "data": {
      "application/vnd.jupyter.widget-view+json": {
       "model_id": "0557e5bea57f4d24a29b95d161f3b392",
       "version_major": 2,
       "version_minor": 0
      },
      "text/plain": [
       "interactive(children=(Dropdown(description='sensor_type', options=(('temperature', 0), ('humidity', 1), ('ligh…"
      ]
     },
     "metadata": {},
     "output_type": "display_data"
    }
   ],
   "source": [
    "day = timedelta(days=1)\n",
    "\n",
    "MEASUREMENT = \"measurement\"\n",
    "MUNICIPALITY = \"municipality\"\n",
    "\n",
    "# query 1: stats (min, max, avg) per type (hue 1) per space (hue 2) per time (hue 3)\n",
    "@interact(sensor_type = [(\"temperature\", 0), (\"humidity\",1), (\"light\",2), (\"movement\",3)], \n",
    "          space_type = [\"space\", \"municipality\", \"Brussels\"],\n",
    "          period = [(\"24hrs\", day), (\"2 days\", 2 * day), (\"last week\", 7 * day), (\"last month\", 30*day), (\"last year\", 365*day)])\n",
    "\n",
    "def report_statistics(sensor_type, space_type, period):\n",
    "    \n",
    "    # define current date\n",
    "    # as the last date recorded in the database\n",
    "    current_date = statistics.find_one(sort=[(\"time\", -1)])[\"time\"]\n",
    "    \n",
    "    # query to obtain sensor type between current_time - period to now\n",
    "    my_query = statistics.find({\"sensor_type\": sensor_type, \"time\": {'$gt': current_date - period}})\n",
    "    res = pd.DataFrame([elem for elem in my_query])\n",
    "    \n",
    "    # transform information in DF to solely about IDs\n",
    "    res[\"p-i\"] = res[\"p-i\"].map(lambda x: int(x.rstrip('0123').rstrip(\"-\")))\n",
    "    \n",
    "    # case: space\n",
    "    if space_type == \"space\":\n",
    "        list_max = res.groupby([\"p-i\"])[MEASUREMENT].max()\n",
    "        list_min = res.groupby([\"p-i\"])[MEASUREMENT].min()\n",
    "        list_mean = res.groupby([\"p-i\"])[MEASUREMENT].mean()\n",
    "        \n",
    "        spaces = list(res.groupby([\"p-i\"]).groups.keys())\n",
    "        max_values, min_values, mean_values = list(list_max.values), list(list_min.values), list(list_mean.values)\n",
    "\n",
    "        print(\"space\\tmax\\t\\t\\tmin\\t\\t\\tavg\")\n",
    "        for i in range(len(spaces)):\n",
    "            print(\"{}\\t{}\\t{}\\t{}\".format(spaces[i], max_values[i], min_values[i], mean_values[i]))\n",
    "        \n",
    "    # case : municipality\n",
    "    elif space_type == \"municipality\":\n",
    "        \n",
    "        list_max = res.groupby([MUNICIPALITY])[MEASUREMENT].max()\n",
    "        list_min = res.groupby([MUNICIPALITY])[MEASUREMENT].min()\n",
    "        list_mean = res.groupby([MUNICIPALITY])[MEASUREMENT].mean()\n",
    "        \n",
    "        municipalities = list(res.groupby([MUNICIPALITY]).groups.keys())\n",
    "        max_values, min_values, mean_values = list(list_max.values), list(list_min.values), list(list_mean.values)\n",
    "    \n",
    "        # fixed number -> can be plotted\n",
    "        plt.xlabel(\"municipalities\")\n",
    "        plt.xticks(rotation=90)\n",
    "        plt.ylabel(\"reading\")\n",
    "        plt.plot(municipalities, max_values)\n",
    "        plt.plot(municipalities, min_values)\n",
    "        plt.plot(municipalities, mean_values)\n",
    "        plt.show()\n",
    "        \n",
    "        print(\"municipality\\tmax\\t\\t\\tmin\\t\\t\\tavg\")\n",
    "        for i in range(len(municipalities)):\n",
    "            print(\"{}\\t\\t{}\\t{}\\t{}\".format(municipalities[i], max_values[i], min_values[i], mean_values[i]))\n",
    "    \n",
    "    # case : Brussels  \n",
    "    else:\n",
    "        \n",
    "        maximum_measurement = res[MEASUREMENT].max()\n",
    "        minimum_measurement = res[MEASUREMENT].min()\n",
    "        average_measurement = res[MEASUREMENT].mean()\n",
    "        \n",
    "        print(\"max_value : {}\".format(maximum_measurement))\n",
    "        print(\"min_value : {}\".format(minimum_measurement))\n",
    "        print(\"avg_value : {}\".format(average_measurement))"
   ]
  },
  {
   "cell_type": "markdown",
   "metadata": {
    "extensions": {
     "jupyter_dashboards": {
      "version": 1,
      "views": {
       "grid_default": {},
       "report_default": {
        "hidden": true
       }
      }
     }
    }
   },
   "source": [
    "## Timeslots"
   ]
  },
  {
   "cell_type": "code",
   "execution_count": 11,
   "metadata": {
    "extensions": {
     "jupyter_dashboards": {
      "version": 1,
      "views": {
       "grid_default": {},
       "report_default": {
        "hidden": true
       }
      }
     }
    }
   },
   "outputs": [
    {
     "data": {
      "application/vnd.jupyter.widget-view+json": {
       "model_id": "0b166268733441fc9118d72ac0ff7ec2",
       "version_major": 2,
       "version_minor": 0
      },
      "text/plain": [
       "interactive(children=(Dropdown(description='space', options=('space', 'municipality', 'Brussels'), value='spac…"
      ]
     },
     "metadata": {},
     "output_type": "display_data"
    }
   ],
   "source": [
    "DAYTIME = \"daytime\"\n",
    "NIGHTTIME = \"nighttime\"\n",
    "TRESHOLD = 19.5\n",
    "\n",
    "# query 2: for each temp sensor -> characterization timeslots\n",
    "@interact(space = [\"space\", \"municipality\", \"Brussels\"],\n",
    "          privacy = [\"private\", \"public\"],\n",
    "          period = [(\"last month\", 30*day), (\"last year\", 365*day)])\n",
    "\n",
    "def classifyTimeslots(space, privacy, period):\n",
    "    # define current date\n",
    "    # as the last date recorded in the database\n",
    "    current_date = timeslots.find_one(sort=[(\"time\", -1)])[\"time\"]\n",
    "    \n",
    "    # obtain entries in time period with specific place\n",
    "    my_query = timeslots.find({\"time\": {'$gt': current_date - period}, \"type_space\": privacy})\n",
    "    res = pd.DataFrame([elem for elem in my_query])\n",
    "    \n",
    "    # transform information in DF to solely about IDs\n",
    "    res[\"p-i\"] = res[\"p-i\"].map(lambda x: int(x.rstrip('0123').rstrip(\"-\")))\n",
    "    \n",
    "    # case : per space\n",
    "    if space == \"space\":\n",
    "        # gather measures\n",
    "        slot_characterization = res.groupby([\"p-i\", \"slot\"])[MEASUREMENT]\n",
    "        \n",
    "        # for each sensor/slot pair and readings\n",
    "        print(\"sensor\\tslot\\ttemperature type\")\n",
    "        for sensor_slot, readings in slot_characterization:\n",
    "            sensor, slot = sensor_slot[0], sensor_slot[1]\n",
    "            type_temp = DAYTIME\n",
    "            if readings.mean() < TRESHOLD:\n",
    "                type_temp = NIGHTTIME\n",
    "            print(\"{}\\t{}\\t{}\".format(sensor, slot, type_temp))        \n",
    "    \n",
    "    # case : per municipality\n",
    "    elif space == \"municipality\":\n",
    "        municipality_characterization = res.groupby([\"municipality\", \"slot\"])[MEASUREMENT]\n",
    "        \n",
    "        print(\"municipality\\tslot\\ttemperature type\")\n",
    "        for sensor_slot, readings in municipality_characterization:\n",
    "            sensor, slot = sensor_slot[0], sensor_slot[1]\n",
    "            type_temp = DAYTIME\n",
    "            if readings.mean() < TRESHOLD:\n",
    "                type_temp = NIGHTTIME\n",
    "            print(\"{}\\t\\t{}\\t{}\".format(sensor, slot, type_temp)) \n",
    "    \n",
    "    # case : Brussels\n",
    "    else:\n",
    "        bxl_characterization = res.groupby([\"slot\"])[MEASUREMENT]\n",
    "        for slot, readings in bxl_characterization:\n",
    "            type_temp = DAYTIME\n",
    "            if readings.mean() < TRESHOLD:\n",
    "                type_temp = NIGHTTIME\n",
    "\n",
    "        print(\"Brussels temperature type : {}\".format(type_temp))"
   ]
  },
  {
   "cell_type": "markdown",
   "metadata": {
    "extensions": {
     "jupyter_dashboards": {
      "version": 1,
      "views": {
       "grid_default": {},
       "report_default": {
        "hidden": false
       }
      }
     }
    }
   },
   "source": [
    "## Sliding window"
   ]
  },
  {
   "cell_type": "code",
   "execution_count": 12,
   "metadata": {
    "extensions": {
     "jupyter_dashboards": {
      "version": 1,
      "views": {
       "grid_default": {},
       "report_default": {
        "hidden": true
       }
      }
     }
    }
   },
   "outputs": [
    {
     "data": {
      "application/vnd.jupyter.widget-view+json": {
       "model_id": "a4408f8753cc4317b86e24c341690108",
       "version_major": 2,
       "version_minor": 0
      },
      "text/plain": [
       "interactive(children=(Dropdown(description='reset', options=('reset',), value='reset'), Output()), _dom_classe…"
      ]
     },
     "metadata": {},
     "output_type": "display_data"
    }
   ],
   "source": [
    "@interact(reset=[\"reset\"])\n",
    "\n",
    "def slidingWindow(reset):\n",
    "    hour = timedelta(hours=1)\n",
    "\n",
    "    # define current date\n",
    "    # as the last date recorded in the database\n",
    "    current_date = window.find_one(sort=[(\"time\", -1)])[\"time\"]\n",
    "\n",
    "    # The \"window\" operation has already been taken into account\n",
    "    # Every record that has the current_date as its \"time\" value is in the last 24h window\n",
    "    my_query = window.find({\"time\": current_date})   \n",
    "    res = pd.DataFrame([elem for elem in my_query])\n",
    "\n",
    "    information = res.groupby([MEASUREMENT])[\"frequency\"]\n",
    "\n",
    "    for measure, frequency in information:\n",
    "        print(\"{}\\t{}\".format(round(measure, 1), float(frequency)))\n",
    "\n",
    "#slidingWindow(\"test\")\n",
    "    "
   ]
  },
  {
   "cell_type": "code",
   "execution_count": null,
   "metadata": {
    "extensions": {
     "jupyter_dashboards": {
      "version": 1,
      "views": {
       "grid_default": {},
       "report_default": {
        "hidden": true
       }
      }
     }
    }
   },
   "outputs": [],
   "source": []
  },
  {
   "cell_type": "code",
   "execution_count": null,
   "metadata": {
    "extensions": {
     "jupyter_dashboards": {
      "version": 1,
      "views": {
       "grid_default": {},
       "report_default": {
        "hidden": true
       }
      }
     }
    }
   },
   "outputs": [],
   "source": []
  },
  {
   "cell_type": "code",
   "execution_count": null,
   "metadata": {
    "extensions": {
     "jupyter_dashboards": {
      "version": 1,
      "views": {
       "grid_default": {},
       "report_default": {
        "hidden": true
       }
      }
     }
    }
   },
   "outputs": [],
   "source": []
  }
 ],
 "metadata": {
  "extensions": {
   "jupyter_dashboards": {
    "activeView": "grid_default",
    "version": 1,
    "views": {
     "grid_default": {
      "cellMargin": 10,
      "defaultCellHeight": 20,
      "maxColumns": 12,
      "name": "grid",
      "type": "grid"
     },
     "report_default": {
      "name": "report",
      "type": "report"
     }
    }
   }
  },
  "kernelspec": {
   "display_name": "Python 3",
   "language": "python",
   "name": "python3"
  },
  "language_info": {
   "codemirror_mode": {
    "name": "ipython",
    "version": 3
   },
   "file_extension": ".py",
   "mimetype": "text/x-python",
   "name": "python",
   "nbconvert_exporter": "python",
   "pygments_lexer": "ipython3",
   "version": "3.7.1"
  }
 },
 "nbformat": 4,
 "nbformat_minor": 2
}
