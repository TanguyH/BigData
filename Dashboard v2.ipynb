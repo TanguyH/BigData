{
 "cells": [
  {
   "cell_type": "markdown",
   "metadata": {
    "extensions": {
     "jupyter_dashboards": {
      "version": 1,
      "views": {
       "grid_default": {},
       "report_default": {
        "hidden": false
       }
      }
     }
    }
   },
   "source": [
    "# Big Data Dashboard"
   ]
  },
  {
   "cell_type": "code",
   "execution_count": 17,
   "metadata": {
    "extensions": {
     "jupyter_dashboards": {
      "version": 1,
      "views": {
       "grid_default": {},
       "report_default": {
        "hidden": true
       }
      }
     }
    }
   },
   "outputs": [],
   "source": [
    "import pymongo\n",
    "import pandas as pd\n",
    "import seaborn as sns\n",
    "from ipywidgets import interact\n",
    "\n",
    "sns.set(style=\"darkgrid\")"
   ]
  },
  {
   "cell_type": "code",
   "execution_count": 18,
   "metadata": {
    "extensions": {
     "jupyter_dashboards": {
      "version": 1,
      "views": {
       "grid_default": {},
       "report_default": {
        "hidden": true
       }
      }
     }
    }
   },
   "outputs": [],
   "source": [
    "DATABASE_NAME = \"big_data\"\n",
    "STAT_TABLE = \"statistics\"\n",
    "SLOT_TABLE = \"timeslots\"\n",
    "WINDOW_TABLE = \"window\"\n",
    "SENSOR_TABLE = \"space_sensors\"\n",
    "MUNICIPALITY_TABLE = \"municipality_spaces\""
   ]
  },
  {
   "cell_type": "code",
   "execution_count": 19,
   "metadata": {
    "extensions": {
     "jupyter_dashboards": {
      "version": 1,
      "views": {
       "grid_default": {},
       "report_default": {
        "hidden": true
       }
      }
     }
    }
   },
   "outputs": [],
   "source": [
    "mongo_client = pymongo.MongoClient(\"mongodb://localhost:27017\")\n",
    "used_db = mongo_client[DATABASE_NAME]\n",
    "\n",
    "statistics = used_db[STAT_TABLE]\n",
    "timeslots = used_db[SLOT_TABLE]\n",
    "window = used_db[WINDOW_TABLE]\n",
    "sensors = used_db[SENSOR_TABLE]\n",
    "municipalities = used_db[MUNICIPALITY_TABLE]"
   ]
  },
  {
   "cell_type": "markdown",
   "metadata": {
    "extensions": {
     "jupyter_dashboards": {
      "version": 1,
      "views": {
       "grid_default": {},
       "report_default": {
        "hidden": false
       }
      }
     }
    }
   },
   "source": [
    "## Basic statistics"
   ]
  },
  {
   "cell_type": "code",
   "execution_count": 20,
   "metadata": {
    "extensions": {
     "jupyter_dashboards": {
      "version": 1,
      "views": {
       "grid_default": {},
       "report_default": {
        "hidden": true
       }
      }
     }
    }
   },
   "outputs": [],
   "source": [
    "from datetime import *\n",
    "import time\n",
    "import matplotlib.pyplot as plt\n",
    "import numpy as np"
   ]
  },
  {
   "cell_type": "markdown",
   "metadata": {
    "extensions": {
     "jupyter_dashboards": {
      "version": 1,
      "views": {
       "grid_default": {},
       "report_default": {
        "hidden": false
       }
      }
     }
    }
   },
   "source": [
    "Please select the type, space and time grannularity of the data you would like to consult:"
   ]
  },
  {
   "cell_type": "code",
   "execution_count": 25,
   "metadata": {
    "extensions": {
     "jupyter_dashboards": {
      "version": 1,
      "views": {
       "grid_default": {},
       "report_default": {
        "hidden": false
       }
      }
     }
    }
   },
   "outputs": [
    {
     "data": {
      "application/vnd.jupyter.widget-view+json": {
       "model_id": "50ebbfd7b8cd4c72b422e9616a665849",
       "version_major": 2,
       "version_minor": 0
      },
      "text/plain": [
       "interactive(children=(Dropdown(description='sensor_type', options=(('temperature', 0), ('humidity', 1), ('ligh…"
      ]
     },
     "metadata": {},
     "output_type": "display_data"
    }
   ],
   "source": [
    "day = timedelta(days=1)\n",
    "\n",
    "MEASUREMENT = \"measurement\"\n",
    "MUNICIPALITY = \"municipality\"\n",
    "\n",
    "# query 1: stats (min, max, avg) per type (hue 1) per space (hue 2) per time (hue 3)\n",
    "@interact(sensor_type = [(\"temperature\", 0), (\"humidity\",1), (\"light\",2), (\"movement\",3)], \n",
    "          space_type = [\"space\", \"municipality\", \"Brussels\"],\n",
    "          period = [(\"24hrs\", day), (\"2 days\", 2 * day), (\"last week\", 7 * day), (\"last month\", 30*day), (\"last year\", 365*day)])\n",
    "\n",
    "def report_statistics(sensor_type, space_type, period):\n",
    "    \n",
    "    if sensor_type == 0:\n",
    "        reading_type = \"Temperature\"\n",
    "    elif sensor_type == 1:\n",
    "        reading_type = \"Humidity\"\n",
    "    elif sensor_type == 2:\n",
    "        reading_type = \"Light\"\n",
    "    else:\n",
    "        reading_type = \"Movement\"\n",
    "    # define current date\n",
    "    # as the last date recorded in the database\n",
    "    current_date = statistics.find_one(sort=[(\"time\", -1)])[\"time\"]\n",
    "    \n",
    "    # query to obtain sensor type between current_time - period to now\n",
    "    my_query = statistics.find({\"sensor_type\": sensor_type, \"time\": {'$gt': current_date - period}})\n",
    "    res = pd.DataFrame([elem for elem in my_query])\n",
    "    \n",
    "    if not res.empty:\n",
    "        # transform information in DF to solely about IDs\n",
    "        res[\"p-i\"] = res[\"p-i\"].map(lambda x: int(x.rstrip('0123').rstrip(\"-\")))\n",
    "    \n",
    "        # case: space\n",
    "        if space_type == \"space\":\n",
    "\n",
    "            # obtain sensors in spaces, merge with sensor information\n",
    "            space_query = sensors.find()\n",
    "            sp_res = pd.DataFrame([elem for elem in space_query])\n",
    "            res = pd.merge(res, sp_res, on=[\"p-i\"])\n",
    "\n",
    "            # find max, min, avg per space\n",
    "            list_max = res.groupby([\"space_id\"])[MEASUREMENT].max()\n",
    "            list_min = res.groupby([\"space_id\"])[MEASUREMENT].min()\n",
    "            list_mean = res.groupby([\"space_id\"])[MEASUREMENT].mean()\n",
    "\n",
    "            # extract associated labels\n",
    "            max_values, min_values, mean_values = list(list_max.values), list(list_min.values), list(list_mean.values)\n",
    "            spaces = list(res.groupby([\"space_id\"]).groups.keys())\n",
    "\n",
    "            # string for labels\n",
    "            for i in range(len(spaces)):\n",
    "                spaces[i] = str(spaces[i])\n",
    "\n",
    "            plt.title(reading_type + \" readings statistics for each space\")\n",
    "            # (max) fixed number -> can be plotted\n",
    "            plt.xlabel(\"spaces\")\n",
    "            plt.ylabel(\"reading\")\n",
    "            plt.plot(spaces, max_values, 'ro')\n",
    "            plt.plot(spaces, min_values, 'bo')\n",
    "            plt.plot(spaces, mean_values, 'yo')\n",
    "            plt.show()\n",
    "\n",
    "            # format\n",
    "            print(\"space\\tmax\\t\\t\\tmin\\t\\t\\tavg\")\n",
    "            for i in range(len(spaces)):\n",
    "                print(\"{}\\t{}\\t{}\\t{}\".format(spaces[i], max_values[i], min_values[i], mean_values[i]))\n",
    "\n",
    "\n",
    "        # case : municipality\n",
    "        elif space_type == \"municipality\":\n",
    "\n",
    "            # obtain sensors in spaces, merge with sensor information\n",
    "            space_query = sensors.find()\n",
    "            sp_res = pd.DataFrame([elem for elem in space_query])\n",
    "            res = pd.merge(res, sp_res, on=[\"p-i\"])\n",
    "            #print(res)\n",
    "            #res = res.drop([\"municipality\"], axis=1)\n",
    "\n",
    "            # obtain municipality information\n",
    "            mun_query = municipalities.find()\n",
    "            mun_res = pd.DataFrame([elem for elem in mun_query])\n",
    "\n",
    "            # merge on space id\n",
    "            res = pd.merge(res, mun_res, on=[\"space_id\"])\n",
    "\n",
    "            # find max, min, avg\n",
    "            list_max = res.groupby([MUNICIPALITY])[MEASUREMENT].max()\n",
    "            list_min = res.groupby([MUNICIPALITY])[MEASUREMENT].min()\n",
    "            list_mean = res.groupby([MUNICIPALITY])[MEASUREMENT].mean()\n",
    "\n",
    "            # extract labels\n",
    "            active_mun = list(res.groupby([MUNICIPALITY]).groups.keys())\n",
    "            max_values, min_values, mean_values = list(list_max.values), list(list_min.values), list(list_mean.values)\n",
    "\n",
    "            # string for labels\n",
    "            for i in range(len(active_mun)):\n",
    "                active_mun[i] = str(active_mun[i])\n",
    "\n",
    "            plt.title(reading_type + \" readings statistics for the each municipality\")\n",
    "            # (max) fixed number -> can be plotted\n",
    "            plt.xlabel(\"municipalities\")\n",
    "            plt.xticks(rotation=90)\n",
    "            plt.ylabel(\"reading\")\n",
    "            plt.plot(active_mun, max_values, 'ro')\n",
    "            plt.plot(active_mun, min_values, 'bo')\n",
    "            plt.plot(active_mun, mean_values, 'yo')\n",
    "            plt.show()\n",
    "\n",
    "            print(\"municipality\\tmax\\t\\t\\tmin\\t\\t\\tavg\")\n",
    "            for i in range(len(active_mun)):\n",
    "                print(\"{}\\t\\t{}\\t{}\\t{}\".format(active_mun[i], max_values[i], min_values[i], mean_values[i]))\n",
    "\n",
    "        # case : Brussels  \n",
    "        else:\n",
    "\n",
    "            maximum_measurement = res[MEASUREMENT].max()\n",
    "            minimum_measurement = res[MEASUREMENT].min()\n",
    "            average_measurement = res[MEASUREMENT].mean()\n",
    "\n",
    "            plt.title(reading_type + \" readings statistics for the entirety of Brussels\")\n",
    "            # (max) fixed number -> can be plotted\n",
    "            plt.ylabel(\"reading\")\n",
    "            plt.plot([\"Brussels\"], [maximum_measurement], 'ro')\n",
    "            plt.plot([\"Brussels\"], [minimum_measurement], 'bo')\n",
    "            plt.plot([\"Brussels\"], [average_measurement], 'yo')\n",
    "            plt.show()\n",
    "\n",
    "            print(\"maximum value : {}\".format(maximum_measurement))\n",
    "            print(\"minumum value : {}\".format(minimum_measurement))\n",
    "            print(\"avgerage value : {}\".format(average_measurement))\n",
    "    else:\n",
    "        print(\"Unfortunately, there is no information about {} sensors..\".format(reading_type))"
   ]
  },
  {
   "cell_type": "markdown",
   "metadata": {
    "extensions": {
     "jupyter_dashboards": {
      "version": 1,
      "views": {
       "grid_default": {},
       "report_default": {
        "hidden": false
       }
      }
     }
    }
   },
   "source": [
    "## Timeslots\n",
    "\n",
    "Please select the space grannularity, its privacy setting as well as time grannularity to visualize:"
   ]
  },
  {
   "cell_type": "code",
   "execution_count": 11,
   "metadata": {
    "extensions": {
     "jupyter_dashboards": {
      "version": 1,
      "views": {
       "grid_default": {},
       "report_default": {
        "hidden": false
       }
      }
     }
    }
   },
   "outputs": [
    {
     "data": {
      "application/vnd.jupyter.widget-view+json": {
       "model_id": "1f9fab1e03084bd988df29d435f9615b",
       "version_major": 2,
       "version_minor": 0
      },
      "text/plain": [
       "interactive(children=(Dropdown(description='space', options=('space', 'municipality', 'Brussels'), value='spac…"
      ]
     },
     "metadata": {},
     "output_type": "display_data"
    }
   ],
   "source": [
    "DAYTIME = \"daytime\"\n",
    "NIGHTTIME = \"nighttime\"\n",
    "TRESHOLD = 19.5\n",
    "\n",
    "# query 2: for each temp sensor -> characterization timeslots\n",
    "@interact(space = [\"space\", \"municipality\", \"Brussels\"],\n",
    "          privacy = [\"private\", \"public\"],\n",
    "          period = [(\"last month\", 30*day), (\"last year\", 365*day)])\n",
    "\n",
    "def classifyTimeslots(space, privacy, period):\n",
    "    # define current date\n",
    "    # as the last date recorded in the database\n",
    "    current_date = timeslots.find_one(sort=[(\"time\", -1)])[\"time\"]\n",
    "    \n",
    "    # obtain entries in time period with specific place\n",
    "    my_query = timeslots.find({\"time\": {'$gt': current_date - period}})\n",
    "    res = pd.DataFrame([elem for elem in my_query])\n",
    "    \n",
    "    # transform information in DF to solely about IDs\n",
    "    res[\"p-i\"] = res[\"p-i\"].map(lambda x: int(x.rstrip('0123').rstrip(\"-\")))\n",
    "    \n",
    "    # obtain sensors in spaces, merge with sensor information\n",
    "    space_query = sensors.find()\n",
    "    sp_res = pd.DataFrame([elem for elem in space_query])\n",
    "\n",
    "    res = pd.merge(res, sp_res, on=[\"p-i\"])\n",
    "\n",
    "    # obtain municipalities\n",
    "    mun_query = municipalities.find({\"privacy\": privacy})\n",
    "    mun_res = pd.DataFrame([elem for elem in mun_query])\n",
    "    \n",
    "    available_slots = timeslots.distinct(\"slot\")  #Each different slot that has been seen -> will increase to 96\n",
    "    for i in range(len(available_slots)):\n",
    "        available_slots[i] = str(available_slots[i])\n",
    "    # case : per space\n",
    "    if space == \"space\":\n",
    "        if not mun_res.empty:\n",
    "            spaces = list(res.groupby([\"space_id\"]).groups.keys())\n",
    "            res = pd.merge(res, mun_res, on=\"space_id\")\n",
    "            spaces_for_slots = [spaces for i in range (len(available_slots))]\n",
    "            # gather measures\n",
    "            slot_characterization = res.groupby([\"space_id\", \"slot\"])[MEASUREMENT]\n",
    "            classif_all_slots = [[]for i in range(len(spaces))]\n",
    "            # for each sensor/slot pair and readings\n",
    "            #print(\"space\\tslot\\ttemperature type\")\n",
    "            for space_slot, readings in slot_characterization:\n",
    "                space, slot = space_slot[0], space_slot[1]\n",
    "                type_temp = DAYTIME\n",
    "                if readings.mean() < TRESHOLD:\n",
    "                    type_temp = NIGHTTIME\n",
    "                space_index = spaces.index(space)\n",
    "                classif_all_slots[space_index].append(type_temp)\n",
    "                #print(\"{}\\t{}\\t{}\".format(space, slot, type_temp))\n",
    "            \n",
    "            # string for labels\n",
    "            for i in range(len(spaces)):\n",
    "                spaces[i] = str(spaces[i])\n",
    "                \n",
    "            \n",
    "            colors_for_space = [[]for i in range(len(spaces))]\n",
    "            for i in range (len(classif_all_slots)):\n",
    "                for j in range (len(classif_all_slots[i])):\n",
    "                    if classif_all_slots[i][j] == NIGHTTIME:\n",
    "                        colors_for_space[i].append(\"blue\")\n",
    "                    else:\n",
    "                        colors_for_space[i].append(\"red\")\n",
    "                        \n",
    "            plt.title(\"Time slots classification for each space\")  \n",
    "            plt.xlabel(\"slots\")\n",
    "            plt.ylabel(\"spaces\")\n",
    "            for i in range (len(spaces)):\n",
    "                plt.scatter(available_slots, spaces_for_slots[i], c=colors_for_space[i])\n",
    "            plt.show()\n",
    "        else:\n",
    "            print(\"No data on spaces of {} type exist ...\".format(privacy))\n",
    "        \n",
    "        \n",
    "    # case : per municipality\n",
    "    elif space == \"municipality\":\n",
    "        if not mun_res.empty:\n",
    "            res = pd.merge(res, mun_res, on=\"space_id\")\n",
    "            municipality_characterization = res.groupby([\"municipality\", \"slot\"])[MEASUREMENT]\n",
    "            municipality_names = list(res.groupby([\"municipality\"]).groups.keys())\n",
    "            #print(\"municipality\\tslot\\ttemperature type\")\n",
    "            mun_for_slots = [municipality_names for i in range (len(available_slots))]\n",
    "            classif_all_slots = [[]for i in range(len(municipality_names))]\n",
    "            \n",
    "            for sensor_slot, readings in municipality_characterization:\n",
    "                mun, slot = sensor_slot[0], sensor_slot[1]\n",
    "                type_temp = DAYTIME\n",
    "                if readings.mean() < TRESHOLD:\n",
    "                    type_temp = NIGHTTIME\n",
    "                mun_index = municipality_names.index(mun)\n",
    "                classif_all_slots[mun_index].append(type_temp)\n",
    "                #print(\"{}\\t\\t{}\\t{}\".format(mun, slot, type_temp))\n",
    "            \n",
    "            # string for labels\n",
    "            \n",
    "            for i in range(len(municipality_names)):\n",
    "                municipality_names[i] = str(municipality_names[i])\n",
    "                \n",
    "            colors_for_mun = [[]for i in range(len(municipality_names))]\n",
    "            for i in range (len(classif_all_slots)):\n",
    "                for j in range (len(classif_all_slots[i])):\n",
    "                    if classif_all_slots[i][j] == NIGHTTIME:\n",
    "                        colors_for_mun[i].append(\"blue\")\n",
    "                    else:\n",
    "                        colors_for_mun[i].append(\"red\")\n",
    "                   \n",
    "            plt.title(\"Time slots classification for each municipality\")    \n",
    "            plt.xlabel(\"slots\")\n",
    "            plt.ylabel(\"municipalities\")\n",
    "            for i in range (len(municipality_names)):\n",
    "                plt.scatter(available_slots, mun_for_slots[i], c=colors_for_mun[i])\n",
    "            plt.show()\n",
    "        else:\n",
    "            print(\"No data on municipalities containing spaces of {} type exist ...\".format(privacy))\n",
    "    \n",
    "    # case : Brussels\n",
    "    else:\n",
    "        # not empty\n",
    "        if not mun_res.empty:\n",
    "            res = pd.merge(res, mun_res, on=\"space_id\")\n",
    "            classif = []\n",
    "            bxl_characterization = res.groupby([\"slot\"])[MEASUREMENT]\n",
    "            for slot, readings in bxl_characterization:\n",
    "                type_temp = DAYTIME\n",
    "                if readings.mean() < TRESHOLD:\n",
    "                    type_temp = NIGHTTIME\n",
    "                classif.append(type_temp)\n",
    "            \n",
    "            # string for labels\n",
    "            city_name = [\"Brussels\" for i in range (len(available_slots))]\n",
    "            \n",
    "            plt.title(\"Time slots classification for the entirety of Brussels\")    \n",
    "            plt.xlabel(\"slots\")\n",
    "            plt.ylabel(\"municipalities\")\n",
    "            colors = []\n",
    "            for i in range (len(classif)):\n",
    "                if classif[i] == NIGHTTIME:\n",
    "                    colors.append(\"blue\")\n",
    "                else:\n",
    "                    colors.append(\"red\")\n",
    "\n",
    "            plt.scatter(available_slots, city_name, c=colors)\n",
    "            plt.show()\n",
    "            \n",
    "            print(\"Brussels temperature type : {}\".format(type_temp))\n",
    "        else:\n",
    "            print(\"Brussels does not contain spaces of {} type ...\".format(privacy))"
   ]
  },
  {
   "cell_type": "markdown",
   "metadata": {
    "extensions": {
     "jupyter_dashboards": {
      "version": 1,
      "views": {
       "grid_default": {},
       "report_default": {
        "hidden": false
       }
      }
     }
    }
   },
   "source": [
    "## Sliding window\n",
    "\n",
    "Here is an overview of the most frequent measurements in the latest hour:"
   ]
  },
  {
   "cell_type": "code",
   "execution_count": 16,
   "metadata": {
    "extensions": {
     "jupyter_dashboards": {
      "version": 1,
      "views": {
       "grid_default": {},
       "report_default": {
        "hidden": false
       }
      }
     }
    }
   },
   "outputs": [
    {
     "data": {
      "application/vnd.jupyter.widget-view+json": {
       "model_id": "4b8b4900f0c8486ea8c525bb69d0a8f1",
       "version_major": 2,
       "version_minor": 0
      },
      "text/plain": [
       "interactive(children=(Dropdown(description='update', options=('update',), value='update'), Output()), _dom_cla…"
      ]
     },
     "metadata": {},
     "output_type": "display_data"
    }
   ],
   "source": [
    "@interact(update=[\"update\"])\n",
    "\n",
    "def slidingWindow(update):\n",
    "    hour = timedelta(hours=1)\n",
    "\n",
    "    # define current date\n",
    "    # as the last date recorded in the database\n",
    "    current_date = window.find_one(sort=[(\"time\", -1)])[\"time\"]\n",
    "    # The \"window\" operation has already been taken into account\n",
    "    # Every record that has the current_date as its \"time\" value is in the last 24h window\n",
    "    my_query = window.find({\"time\": current_date}) \n",
    "    res = pd.DataFrame([elem for elem in my_query])\n",
    "    \n",
    "\n",
    "    measures = []\n",
    "    frequencies = []\n",
    "    information = res.groupby([MEASUREMENT])[\"frequency\"]\n",
    "    for measure, frequency in information:\n",
    "        measures.append(measure)\n",
    "        frequencies.append(float(frequency.tail(1)))\n",
    "        #print(\"{}\\t{}\".format(measure, float(frequency.tail(1))))\n",
    "        \n",
    "    for i in range (len(measures)):\n",
    "        measures[i] = str(measures[i])\n",
    "    x = [i for i in range (len(measures))]\n",
    "\n",
    "    plt.title(\"Frequent temperature measures within the last 24h window\")\n",
    "    plt.ylabel(\"Frequency\")\n",
    "    plt.xlabel(\"Measurement\")\n",
    "    plt.xticks(x, measures)\n",
    "    for i in range (len(measures)):\n",
    "        plt.bar(x[i], frequencies[i])\n",
    "\n",
    "    plt.show()\n",
    "    "
   ]
  },
  {
   "cell_type": "code",
   "execution_count": null,
   "metadata": {
    "extensions": {
     "jupyter_dashboards": {
      "version": 1,
      "views": {
       "grid_default": {},
       "report_default": {
        "hidden": true
       }
      }
     }
    }
   },
   "outputs": [],
   "source": []
  },
  {
   "cell_type": "code",
   "execution_count": null,
   "metadata": {
    "extensions": {
     "jupyter_dashboards": {
      "version": 1,
      "views": {
       "grid_default": {},
       "report_default": {
        "hidden": true
       }
      }
     }
    }
   },
   "outputs": [],
   "source": []
  },
  {
   "cell_type": "code",
   "execution_count": null,
   "metadata": {
    "extensions": {
     "jupyter_dashboards": {
      "version": 1,
      "views": {
       "grid_default": {},
       "report_default": {
        "hidden": true
       }
      }
     }
    }
   },
   "outputs": [],
   "source": []
  }
 ],
 "metadata": {
  "extensions": {
   "jupyter_dashboards": {
    "activeView": "report_default",
    "version": 1,
    "views": {
     "grid_default": {
      "cellMargin": 10,
      "defaultCellHeight": 20,
      "maxColumns": 12,
      "name": "grid",
      "type": "grid"
     },
     "report_default": {
      "name": "report",
      "type": "report"
     }
    }
   }
  },
  "kernelspec": {
   "display_name": "Python 3",
   "language": "python",
   "name": "python3"
  },
  "language_info": {
   "codemirror_mode": {
    "name": "ipython",
    "version": 3
   },
   "file_extension": ".py",
   "mimetype": "text/x-python",
   "name": "python",
   "nbconvert_exporter": "python",
   "pygments_lexer": "ipython3",
   "version": "3.7.3"
  }
 },
 "nbformat": 4,
 "nbformat_minor": 2
}
